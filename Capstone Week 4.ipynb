{
 "cells": [
  {
   "cell_type": "markdown",
   "metadata": {},
   "source": [
    "# Introduction/Business Problem"
   ]
  },
  {
   "cell_type": "markdown",
   "metadata": {},
   "source": [
    "### In the city of Toronto, an aspiring chef is looking to open a restaurant. He needs to know two different things:\n",
    "\n",
    "### i) Which are the top 5 neighbourhoods with the least number of restaurants?\n",
    "### ii) What cusine is the most viable to open in these selected neighbourhoods?"
   ]
  },
  {
   "cell_type": "markdown",
   "metadata": {},
   "source": [
    "# Describing the Data"
   ]
  },
  {
   "cell_type": "markdown",
   "metadata": {},
   "source": [
    "### Two datasets will be used for attempting to answer the business problem\n",
    "\n",
    "### i) A wikipedia dataset describing different neighbourhoods in Canada (Week 3's dataset) \n",
    "### https://en.wikipedia.org/wiki/List_of_postal_codes_of_Canada:_M\n",
    "### ii) A wikipedia dataset describing the populations of the neighbourhoods in Toronto\n",
    "### https://en.wikipedia.org/wiki/Demographics_of_Toronto_neighbourhoods\n",
    "\n",
    "### Methodology: To find out the population and the number of restaurants in each neighbourhood (as shown by Foursquare), and then recommend a neighbourhood to open a restaurant in and decide on the appropriate cusine of restaurant to open."
   ]
  },
  {
   "cell_type": "code",
   "execution_count": null,
   "metadata": {},
   "outputs": [],
   "source": []
  }
 ],
 "metadata": {
  "kernelspec": {
   "display_name": "Python 3",
   "language": "python",
   "name": "python3"
  },
  "language_info": {
   "codemirror_mode": {
    "name": "ipython",
    "version": 3
   },
   "file_extension": ".py",
   "mimetype": "text/x-python",
   "name": "python",
   "nbconvert_exporter": "python",
   "pygments_lexer": "ipython3",
   "version": "3.7.3"
  }
 },
 "nbformat": 4,
 "nbformat_minor": 2
}
